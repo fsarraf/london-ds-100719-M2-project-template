{
 "cells": [
  {
   "cell_type": "code",
   "execution_count": 1,
   "metadata": {},
   "outputs": [],
   "source": [
    "%load_ext autoreload\n",
    "%autoreload 2"
   ]
  },
  {
   "cell_type": "code",
   "execution_count": 2,
   "metadata": {},
   "outputs": [],
   "source": [
    "import requests\n",
    "import json\n",
    "from lib import MongoHandler, WeatherGetter\n",
    "import sqlite3\n",
    "import pandas as pd\n",
    "import math\n",
    "import pymongo\n",
    "import numpy as np"
   ]
  },
  {
   "cell_type": "code",
   "execution_count": 3,
   "metadata": {},
   "outputs": [],
   "source": [
    "conn = sqlite3.connect('database.sqlite')\n",
    "cur = conn.cursor()"
   ]
  },
  {
   "cell_type": "code",
   "execution_count": 4,
   "metadata": {},
   "outputs": [
    {
     "name": "stdout",
     "output_type": "stream",
     "text": [
      "[('sqlite_sequence',), ('Matches',), ('Teams_in_Matches',), ('Teams',), ('Unique_Teams',)]\n"
     ]
    }
   ],
   "source": [
    "cur.execute(\"SELECT name FROM sqlite_master WHERE type='table';\")\n",
    "print(cur.fetchall())"
   ]
  },
  {
   "cell_type": "code",
   "execution_count": 5,
   "metadata": {},
   "outputs": [],
   "source": [
    "unique_teams = cur.execute('''SELECT *\n",
    "            FROM Unique_Teams\n",
    "            ''').fetchall()"
   ]
  },
  {
   "cell_type": "code",
   "execution_count": 6,
   "metadata": {},
   "outputs": [
    {
     "data": {
      "text/plain": [
       "[('Bayern Munich', 1),\n",
       " ('Dortmund', 2),\n",
       " ('Leverkusen', 3),\n",
       " ('RB Leipzig', 4),\n",
       " ('Schalke 04', 5)]"
      ]
     },
     "execution_count": 6,
     "metadata": {},
     "output_type": "execute_result"
    }
   ],
   "source": [
    "unique_teams[:5]"
   ]
  },
  {
   "cell_type": "code",
   "execution_count": 7,
   "metadata": {},
   "outputs": [
    {
     "data": {
      "text/plain": [
       "['Bayern Munich', 'Dortmund', 'Leverkusen', 'RB Leipzig', 'Schalke 04']"
      ]
     },
     "execution_count": 7,
     "metadata": {},
     "output_type": "execute_result"
    }
   ],
   "source": [
    "unique_teams_list = [team[0] for team in unique_teams]\n",
    "unique_teams_list[0:5]"
   ]
  },
  {
   "cell_type": "code",
   "execution_count": 8,
   "metadata": {},
   "outputs": [
    {
     "data": {
      "text/plain": [
       "128"
      ]
     },
     "execution_count": 8,
     "metadata": {},
     "output_type": "execute_result"
    }
   ],
   "source": [
    "len(unique_teams_list)"
   ]
  },
  {
   "cell_type": "code",
   "execution_count": 10,
   "metadata": {},
   "outputs": [],
   "source": [
    "teams = cur.execute('''SELECT *\n",
    "            FROM Teams\n",
    "            LIMIT 1''').fetchall()"
   ]
  },
  {
   "cell_type": "code",
   "execution_count": 11,
   "metadata": {},
   "outputs": [
    {
     "data": {
      "text/plain": [
       "[('2017', 'Bayern Munich', '27', '26', '15', '597950000', '22150000', '75000')]"
      ]
     },
     "execution_count": 11,
     "metadata": {},
     "output_type": "execute_result"
    }
   ],
   "source": [
    "teams"
   ]
  },
  {
   "cell_type": "code",
   "execution_count": 14,
   "metadata": {},
   "outputs": [
    {
     "data": {
      "text/plain": [
       "[(0, 'Season', 'TEXT', 0, None, 0),\n",
       " (1, 'TeamName', 'TEXT', 0, None, 0),\n",
       " (2, 'KaderHome', 'TEXT', 0, None, 0),\n",
       " (3, 'AvgAgeHome', 'TEXT', 0, None, 0),\n",
       " (4, 'ForeignPlayersHome', 'TEXT', 0, None, 0),\n",
       " (5, 'OverallMarketValueHome', 'TEXT', 0, None, 0),\n",
       " (6, 'AvgMarketValueHome', 'TEXT', 0, None, 0),\n",
       " (7, 'StadiumCapacity', 'TEXT', 0, None, 0)]"
      ]
     },
     "execution_count": 14,
     "metadata": {},
     "output_type": "execute_result"
    }
   ],
   "source": [
    "team_pragma = cur.execute(\"PRAGMA table_info(Teams)\").fetchall()\n",
    "team_pragma\n"
   ]
  },
  {
   "cell_type": "code",
   "execution_count": 15,
   "metadata": {},
   "outputs": [
    {
     "name": "stdout",
     "output_type": "stream",
     "text": [
      "table: sqlite_sequence\n",
      "[(0, 'name', '', 0, None, 0), (1, 'seq', '', 0, None, 0)]\n",
      "[]\n",
      "table: Matches\n",
      "[(0, 'Match_ID', 'INTEGER', 1, None, 1), (1, 'Div', 'TEXT', 0, None, 0), (2, 'Season', 'INT', 0, None, 0), (3, 'Date', 'TEXT', 0, None, 0), (4, 'HomeTeam', 'TEXT', 0, None, 0), (5, 'AwayTeam', 'TEXT', 0, None, 0), (6, 'FTHG', 'INT', 0, None, 0), (7, 'FTAG', 'INT', 0, None, 0), (8, 'FTR', 'TEXT', 0, None, 0)]\n",
      "[]\n",
      "table: Teams_in_Matches\n",
      "[(0, 'Match_ID', 'INT', 0, None, 0), (1, 'Unique_Team_ID', 'INT', 0, None, 0)]\n",
      "[]\n",
      "table: Teams\n",
      "[(0, 'Season', 'TEXT', 0, None, 0), (1, 'TeamName', 'TEXT', 0, None, 0), (2, 'KaderHome', 'TEXT', 0, None, 0), (3, 'AvgAgeHome', 'TEXT', 0, None, 0), (4, 'ForeignPlayersHome', 'TEXT', 0, None, 0), (5, 'OverallMarketValueHome', 'TEXT', 0, None, 0), (6, 'AvgMarketValueHome', 'TEXT', 0, None, 0), (7, 'StadiumCapacity', 'TEXT', 0, None, 0)]\n",
      "[]\n",
      "table: Unique_Teams\n",
      "[(0, 'TeamName', 'TEXT', 0, None, 0), (1, 'Unique_Team_ID', 'INTEGER', 0, None, 1)]\n",
      "[]\n"
     ]
    }
   ],
   "source": [
    "rows = cur.execute(\"SELECT name FROM sqlite_master WHERE type = 'table'\")\n",
    "tables = [row[0] for row in rows]\n",
    "\n",
    "def sql_identifier(s):\n",
    "    return '\"' + s.replace('\"', '\"\"') + '\"'\n",
    "\n",
    "for table in tables:\n",
    "    print(\"table: \" + table)\n",
    "    rows = cur.execute(\"PRAGMA table_info({})\".format(sql_identifier(table)))\n",
    "    print(rows.fetchall())\n",
    "    rows = cur.execute(\"PRAGMA foreign_key_list({})\".format(sql_identifier(table)))\n",
    "    print(rows.fetchall())"
   ]
  },
  {
   "cell_type": "code",
   "execution_count": 16,
   "metadata": {},
   "outputs": [
    {
     "data": {
      "text/plain": [
       "[(0, 'Match_ID', 'INTEGER', 1, None, 1),\n",
       " (1, 'Div', 'TEXT', 0, None, 0),\n",
       " (2, 'Season', 'INT', 0, None, 0),\n",
       " (3, 'Date', 'TEXT', 0, None, 0),\n",
       " (4, 'HomeTeam', 'TEXT', 0, None, 0),\n",
       " (5, 'AwayTeam', 'TEXT', 0, None, 0),\n",
       " (6, 'FTHG', 'INT', 0, None, 0),\n",
       " (7, 'FTAG', 'INT', 0, None, 0),\n",
       " (8, 'FTR', 'TEXT', 0, None, 0)]"
      ]
     },
     "execution_count": 16,
     "metadata": {},
     "output_type": "execute_result"
    }
   ],
   "source": [
    "matches_pragma = cur.execute(\"PRAGMA table_info(matches)\").fetchall()\n",
    "matches_pragma\n"
   ]
  },
  {
   "cell_type": "code",
   "execution_count": 17,
   "metadata": {},
   "outputs": [],
   "source": [
    "matches = cur.execute('''SELECT *\n",
    "            FROM Matches\n",
    "            WHERE Season = 2011''').fetchall()\n"
   ]
  },
  {
   "cell_type": "code",
   "execution_count": 18,
   "metadata": {},
   "outputs": [],
   "source": [
    "matches_df = pd.DataFrame(matches)"
   ]
  },
  {
   "cell_type": "code",
   "execution_count": 19,
   "metadata": {},
   "outputs": [
    {
     "data": {
      "text/html": [
       "<div>\n",
       "<style scoped>\n",
       "    .dataframe tbody tr th:only-of-type {\n",
       "        vertical-align: middle;\n",
       "    }\n",
       "\n",
       "    .dataframe tbody tr th {\n",
       "        vertical-align: top;\n",
       "    }\n",
       "\n",
       "    .dataframe thead th {\n",
       "        text-align: right;\n",
       "    }\n",
       "</style>\n",
       "<table border=\"1\" class=\"dataframe\">\n",
       "  <thead>\n",
       "    <tr style=\"text-align: right;\">\n",
       "      <th></th>\n",
       "      <th>0</th>\n",
       "      <th>1</th>\n",
       "      <th>2</th>\n",
       "      <th>3</th>\n",
       "      <th>4</th>\n",
       "      <th>5</th>\n",
       "      <th>6</th>\n",
       "      <th>7</th>\n",
       "      <th>8</th>\n",
       "    </tr>\n",
       "  </thead>\n",
       "  <tbody>\n",
       "    <tr>\n",
       "      <td>0</td>\n",
       "      <td>1092</td>\n",
       "      <td>D1</td>\n",
       "      <td>2011</td>\n",
       "      <td>2012-03-31</td>\n",
       "      <td>Nurnberg</td>\n",
       "      <td>Bayern Munich</td>\n",
       "      <td>0</td>\n",
       "      <td>1</td>\n",
       "      <td>A</td>\n",
       "    </tr>\n",
       "    <tr>\n",
       "      <td>1</td>\n",
       "      <td>1093</td>\n",
       "      <td>D1</td>\n",
       "      <td>2011</td>\n",
       "      <td>2011-12-11</td>\n",
       "      <td>Stuttgart</td>\n",
       "      <td>Bayern Munich</td>\n",
       "      <td>1</td>\n",
       "      <td>2</td>\n",
       "      <td>A</td>\n",
       "    </tr>\n",
       "    <tr>\n",
       "      <td>2</td>\n",
       "      <td>1094</td>\n",
       "      <td>D1</td>\n",
       "      <td>2011</td>\n",
       "      <td>2011-08-13</td>\n",
       "      <td>Wolfsburg</td>\n",
       "      <td>Bayern Munich</td>\n",
       "      <td>0</td>\n",
       "      <td>1</td>\n",
       "      <td>A</td>\n",
       "    </tr>\n",
       "    <tr>\n",
       "      <td>3</td>\n",
       "      <td>1095</td>\n",
       "      <td>D1</td>\n",
       "      <td>2011</td>\n",
       "      <td>2011-11-27</td>\n",
       "      <td>Mainz</td>\n",
       "      <td>Bayern Munich</td>\n",
       "      <td>3</td>\n",
       "      <td>2</td>\n",
       "      <td>H</td>\n",
       "    </tr>\n",
       "    <tr>\n",
       "      <td>4</td>\n",
       "      <td>1096</td>\n",
       "      <td>D1</td>\n",
       "      <td>2011</td>\n",
       "      <td>2012-02-18</td>\n",
       "      <td>Freiburg</td>\n",
       "      <td>Bayern Munich</td>\n",
       "      <td>0</td>\n",
       "      <td>0</td>\n",
       "      <td>D</td>\n",
       "    </tr>\n",
       "  </tbody>\n",
       "</table>\n",
       "</div>"
      ],
      "text/plain": [
       "      0   1     2           3          4              5  6  7  8\n",
       "0  1092  D1  2011  2012-03-31   Nurnberg  Bayern Munich  0  1  A\n",
       "1  1093  D1  2011  2011-12-11  Stuttgart  Bayern Munich  1  2  A\n",
       "2  1094  D1  2011  2011-08-13  Wolfsburg  Bayern Munich  0  1  A\n",
       "3  1095  D1  2011  2011-11-27      Mainz  Bayern Munich  3  2  H\n",
       "4  1096  D1  2011  2012-02-18   Freiburg  Bayern Munich  0  0  D"
      ]
     },
     "execution_count": 19,
     "metadata": {},
     "output_type": "execute_result"
    }
   ],
   "source": [
    "matches_df.head()"
   ]
  },
  {
   "cell_type": "code",
   "execution_count": 20,
   "metadata": {},
   "outputs": [],
   "source": [
    "matches_df.rename(columns={0:\"match_id\", 1:\"Div\", 2:'season', 3:\"Date1\", 4:\"home_team\", 5:\"away_team\", 6:'FTHG', 7:\"FTAG\", 8:'FTR'}, inplace= True)"
   ]
  },
  {
   "cell_type": "code",
   "execution_count": 21,
   "metadata": {},
   "outputs": [
    {
     "data": {
      "text/html": [
       "<div>\n",
       "<style scoped>\n",
       "    .dataframe tbody tr th:only-of-type {\n",
       "        vertical-align: middle;\n",
       "    }\n",
       "\n",
       "    .dataframe tbody tr th {\n",
       "        vertical-align: top;\n",
       "    }\n",
       "\n",
       "    .dataframe thead th {\n",
       "        text-align: right;\n",
       "    }\n",
       "</style>\n",
       "<table border=\"1\" class=\"dataframe\">\n",
       "  <thead>\n",
       "    <tr style=\"text-align: right;\">\n",
       "      <th></th>\n",
       "      <th>match_id</th>\n",
       "      <th>Div</th>\n",
       "      <th>season</th>\n",
       "      <th>Date1</th>\n",
       "      <th>home_team</th>\n",
       "      <th>away_team</th>\n",
       "      <th>FTHG</th>\n",
       "      <th>FTAG</th>\n",
       "      <th>FTR</th>\n",
       "    </tr>\n",
       "  </thead>\n",
       "  <tbody>\n",
       "    <tr>\n",
       "      <td>0</td>\n",
       "      <td>1092</td>\n",
       "      <td>D1</td>\n",
       "      <td>2011</td>\n",
       "      <td>2012-03-31</td>\n",
       "      <td>Nurnberg</td>\n",
       "      <td>Bayern Munich</td>\n",
       "      <td>0</td>\n",
       "      <td>1</td>\n",
       "      <td>A</td>\n",
       "    </tr>\n",
       "    <tr>\n",
       "      <td>1</td>\n",
       "      <td>1093</td>\n",
       "      <td>D1</td>\n",
       "      <td>2011</td>\n",
       "      <td>2011-12-11</td>\n",
       "      <td>Stuttgart</td>\n",
       "      <td>Bayern Munich</td>\n",
       "      <td>1</td>\n",
       "      <td>2</td>\n",
       "      <td>A</td>\n",
       "    </tr>\n",
       "    <tr>\n",
       "      <td>2</td>\n",
       "      <td>1094</td>\n",
       "      <td>D1</td>\n",
       "      <td>2011</td>\n",
       "      <td>2011-08-13</td>\n",
       "      <td>Wolfsburg</td>\n",
       "      <td>Bayern Munich</td>\n",
       "      <td>0</td>\n",
       "      <td>1</td>\n",
       "      <td>A</td>\n",
       "    </tr>\n",
       "    <tr>\n",
       "      <td>3</td>\n",
       "      <td>1095</td>\n",
       "      <td>D1</td>\n",
       "      <td>2011</td>\n",
       "      <td>2011-11-27</td>\n",
       "      <td>Mainz</td>\n",
       "      <td>Bayern Munich</td>\n",
       "      <td>3</td>\n",
       "      <td>2</td>\n",
       "      <td>H</td>\n",
       "    </tr>\n",
       "    <tr>\n",
       "      <td>4</td>\n",
       "      <td>1096</td>\n",
       "      <td>D1</td>\n",
       "      <td>2011</td>\n",
       "      <td>2012-02-18</td>\n",
       "      <td>Freiburg</td>\n",
       "      <td>Bayern Munich</td>\n",
       "      <td>0</td>\n",
       "      <td>0</td>\n",
       "      <td>D</td>\n",
       "    </tr>\n",
       "  </tbody>\n",
       "</table>\n",
       "</div>"
      ],
      "text/plain": [
       "   match_id Div  season       Date1  home_team      away_team  FTHG  FTAG FTR\n",
       "0      1092  D1    2011  2012-03-31   Nurnberg  Bayern Munich     0     1   A\n",
       "1      1093  D1    2011  2011-12-11  Stuttgart  Bayern Munich     1     2   A\n",
       "2      1094  D1    2011  2011-08-13  Wolfsburg  Bayern Munich     0     1   A\n",
       "3      1095  D1    2011  2011-11-27      Mainz  Bayern Munich     3     2   H\n",
       "4      1096  D1    2011  2012-02-18   Freiburg  Bayern Munich     0     0   D"
      ]
     },
     "execution_count": 21,
     "metadata": {},
     "output_type": "execute_result"
    }
   ],
   "source": [
    "matches_df.head()"
   ]
  },
  {
   "cell_type": "code",
   "execution_count": 23,
   "metadata": {},
   "outputs": [
    {
     "name": "stdout",
     "output_type": "stream",
     "text": [
      "<class 'pandas.core.frame.DataFrame'>\n",
      "RangeIndex: 992 entries, 0 to 991\n",
      "Data columns (total 9 columns):\n",
      "match_id     992 non-null int64\n",
      "Div          992 non-null object\n",
      "season       992 non-null int64\n",
      "Date1        992 non-null object\n",
      "home_team    992 non-null object\n",
      "away_team    992 non-null object\n",
      "FTHG         992 non-null int64\n",
      "FTAG         992 non-null int64\n",
      "FTR          992 non-null object\n",
      "dtypes: int64(4), object(5)\n",
      "memory usage: 69.9+ KB\n"
     ]
    }
   ],
   "source": [
    "matches_df.info()"
   ]
  },
  {
   "cell_type": "code",
   "execution_count": 22,
   "metadata": {},
   "outputs": [],
   "source": [
    "dates = matches_df['Date1'].unique()"
   ]
  },
  {
   "cell_type": "code",
   "execution_count": 24,
   "metadata": {},
   "outputs": [
    {
     "name": "stdout",
     "output_type": "stream",
     "text": [
      "<class 'pandas.core.frame.DataFrame'>\n",
      "RangeIndex: 992 entries, 0 to 991\n",
      "Data columns (total 9 columns):\n",
      "match_id     992 non-null int64\n",
      "Div          992 non-null object\n",
      "season       992 non-null int64\n",
      "Date1        992 non-null object\n",
      "home_team    992 non-null object\n",
      "away_team    992 non-null object\n",
      "FTHG         992 non-null int64\n",
      "FTAG         992 non-null int64\n",
      "FTR          992 non-null object\n",
      "dtypes: int64(4), object(5)\n",
      "memory usage: 69.9+ KB\n"
     ]
    }
   ],
   "source": [
    "matches_df.info()"
   ]
  },
  {
   "cell_type": "code",
   "execution_count": 25,
   "metadata": {},
   "outputs": [],
   "source": [
    "d1 = dates[0]+'T15:00:00'"
   ]
  },
  {
   "cell_type": "code",
   "execution_count": 26,
   "metadata": {},
   "outputs": [
    {
     "data": {
      "text/plain": [
       "'2012-03-31T15:00:00'"
      ]
     },
     "execution_count": 26,
     "metadata": {},
     "output_type": "execute_result"
    }
   ],
   "source": [
    "d1"
   ]
  },
  {
   "cell_type": "code",
   "execution_count": 27,
   "metadata": {},
   "outputs": [
    {
     "data": {
      "text/plain": [
       "['2012-03-31T15:00:00',\n",
       " '2011-12-11T15:00:00',\n",
       " '2011-08-13T15:00:00',\n",
       " '2011-11-27T15:00:00',\n",
       " '2012-02-18T15:00:00']"
      ]
     },
     "execution_count": 27,
     "metadata": {},
     "output_type": "execute_result"
    }
   ],
   "source": [
    "dates_list = []\n",
    "for d in dates:\n",
    "    dates_list.append(d+'T15:00:00')\n",
    "\n",
    "dates_list[:5]"
   ]
  },
  {
   "cell_type": "code",
   "execution_count": 30,
   "metadata": {},
   "outputs": [],
   "source": [
    "get_weather = WeatherGetter()"
   ]
  },
  {
   "cell_type": "code",
   "execution_count": 31,
   "metadata": {},
   "outputs": [],
   "source": [
    "test_api = get_weather.weather_getter(d1)"
   ]
  },
  {
   "cell_type": "code",
   "execution_count": 32,
   "metadata": {},
   "outputs": [],
   "source": [
    "result = test_api.json()"
   ]
  },
  {
   "cell_type": "code",
   "execution_count": 33,
   "metadata": {},
   "outputs": [
    {
     "data": {
      "text/plain": [
       "{'latitude': 52.52,\n",
       " 'longitude': 13.405,\n",
       " 'timezone': 'Europe/Berlin',\n",
       " 'currently': {'time': 1333198800,\n",
       "  'summary': 'Mostly Cloudy',\n",
       "  'icon': 'partly-cloudy-day',\n",
       "  'precipIntensity': 0,\n",
       "  'precipProbability': 0,\n",
       "  'temperature': 41.31,\n",
       "  'apparentTemperature': 34.25,\n",
       "  'dewPoint': 34.32,\n",
       "  'humidity': 0.76,\n",
       "  'windSpeed': 12.67,\n",
       "  'windGust': 25.29,\n",
       "  'windBearing': 311,\n",
       "  'cloudCover': 0.75,\n",
       "  'uvIndex': 3,\n",
       "  'visibility': 6.216},\n",
       " 'offset': 2}"
      ]
     },
     "execution_count": 33,
     "metadata": {},
     "output_type": "execute_result"
    }
   ],
   "source": [
    "result"
   ]
  },
  {
   "cell_type": "code",
   "execution_count": 34,
   "metadata": {},
   "outputs": [],
   "source": [
    "d={}\n",
    "for date in dates_list:\n",
    "    call = get_weather.weather_getter(date)\n",
    "    result = call.json()\n",
    "    \n",
    "    d[date]=result['currently'].get('icon') if result['currently'].get('icon') else result['currently'].get('summary')"
   ]
  },
  {
   "cell_type": "code",
   "execution_count": 35,
   "metadata": {},
   "outputs": [],
   "source": [
    "weather_dict = {}\n",
    "for i in d:\n",
    "    weather_dict[i[:10]] = d[i]\n",
    "    "
   ]
  },
  {
   "cell_type": "code",
   "execution_count": 36,
   "metadata": {
    "scrolled": true
   },
   "outputs": [
    {
     "data": {
      "text/plain": [
       "{'2012-03-31': 'partly-cloudy-day',\n",
       " '2011-12-11': 'partly-cloudy-day',\n",
       " '2011-08-13': 'partly-cloudy-day',\n",
       " '2011-11-27': 'partly-cloudy-day',\n",
       " '2012-02-18': 'partly-cloudy-day',\n",
       " '2012-01-20': 'partly-cloudy-day',\n",
       " '2012-02-04': 'clear-day',\n",
       " '2012-04-21': 'partly-cloudy-day',\n",
       " '2011-09-18': 'partly-cloudy-day',\n",
       " '2011-10-23': 'rain',\n",
       " '2011-10-01': 'Clear',\n",
       " '2012-03-03': 'Clear',\n",
       " '2011-08-27': 'partly-cloudy-day',\n",
       " '2012-03-17': 'Clear',\n",
       " '2011-11-06': 'Clear',\n",
       " '2012-05-05': 'partly-cloudy-day',\n",
       " '2012-04-11': 'partly-cloudy-day',\n",
       " '2011-12-17': 'partly-cloudy-day',\n",
       " '2012-02-03': 'partly-cloudy-day',\n",
       " '2011-10-29': 'Clear',\n",
       " '2012-01-22': 'partly-cloudy-day',\n",
       " '2011-12-03': 'rain',\n",
       " '2012-04-14': 'partly-cloudy-day',\n",
       " '2012-03-25': 'Clear',\n",
       " '2012-03-10': 'partly-cloudy-day',\n",
       " '2012-04-07': 'partly-cloudy-day',\n",
       " '2011-11-19': 'Clear',\n",
       " '2011-10-14': 'partly-cloudy-day',\n",
       " '2011-09-24': 'clear-day',\n",
       " '2012-04-28': 'Clear',\n",
       " '2011-12-18': 'rain',\n",
       " '2012-03-02': 'partly-cloudy-day',\n",
       " '2012-03-16': 'Clear',\n",
       " '2012-02-17': 'partly-cloudy-day',\n",
       " '2011-08-06': 'partly-cloudy-day',\n",
       " '2011-11-04': 'Clear',\n",
       " '2011-09-16': 'partly-cloudy-day',\n",
       " '2011-07-15': 'partly-cloudy-day',\n",
       " '2012-05-06': 'partly-cloudy-day',\n",
       " '2012-02-11': 'clear-day',\n",
       " '2011-10-02': 'Clear',\n",
       " '2012-03-30': 'partly-cloudy-day',\n",
       " '2011-10-22': 'clear-day',\n",
       " '2011-08-26': 'Clear',\n",
       " '2011-08-07': 'partly-cloudy-day',\n",
       " '2012-02-24': 'partly-cloudy-day',\n",
       " '2011-07-17': 'Clear',\n",
       " '2012-02-12': 'partly-cloudy-day',\n",
       " '2011-08-22': 'clear-day',\n",
       " '2011-09-09': 'partly-cloudy-day',\n",
       " '2012-04-01': 'partly-cloudy-day',\n",
       " '2011-09-25': 'clear-day',\n",
       " '2012-04-20': 'partly-cloudy-day',\n",
       " '2011-11-25': 'Clear',\n",
       " '2012-03-09': 'partly-cloudy-day',\n",
       " '2011-11-07': 'Clear',\n",
       " '2011-09-10': 'partly-cloudy-day',\n",
       " '2011-08-21': 'Clear',\n",
       " '2011-09-26': 'Clear',\n",
       " '2012-03-26': 'Clear',\n",
       " '2011-10-30': 'partly-cloudy-day',\n",
       " '2012-02-13': 'partly-cloudy-day',\n",
       " '2012-02-26': 'clear-day',\n",
       " '2011-12-19': 'partly-cloudy-day',\n",
       " '2012-03-11': 'partly-cloudy-day',\n",
       " '2011-11-26': 'partly-cloudy-day',\n",
       " '2012-04-23': 'partly-cloudy-day',\n",
       " '2011-12-16': 'rain',\n",
       " '2011-11-05': 'Clear',\n",
       " '2012-04-10': 'partly-cloudy-day',\n",
       " '2012-04-15': 'partly-cloudy-day',\n",
       " '2012-02-05': 'partly-cloudy-day',\n",
       " '2012-03-04': 'Clear',\n",
       " '2011-09-17': 'partly-cloudy-day',\n",
       " '2012-01-21': 'partly-cloudy-day',\n",
       " '2012-03-18': 'partly-cloudy-day',\n",
       " '2012-04-22': 'partly-cloudy-day',\n",
       " '2011-08-20': 'partly-cloudy-day',\n",
       " '2012-02-10': 'clear-day',\n",
       " '2012-02-25': 'partly-cloudy-day',\n",
       " '2011-12-10': 'partly-cloudy-day',\n",
       " '2012-01-29': 'Clear',\n",
       " '2011-10-16': 'Clear',\n",
       " '2011-08-05': 'partly-cloudy-day',\n",
       " '2012-03-23': 'clear-day',\n",
       " '2011-09-23': 'partly-cloudy-day',\n",
       " '2012-01-28': 'cloudy',\n",
       " '2011-10-15': 'clear-day',\n",
       " '2012-03-24': 'Clear',\n",
       " '2011-11-18': 'partly-cloudy-day',\n",
       " '2012-04-29': 'Clear',\n",
       " '2011-12-09': 'partly-cloudy-day',\n",
       " '2012-04-08': 'Clear',\n",
       " '2012-03-12': 'partly-cloudy-day',\n",
       " '2011-07-23': 'partly-cloudy-day',\n",
       " '2011-10-28': 'partly-cloudy-day',\n",
       " '2012-01-27': 'Clear',\n",
       " '2011-12-04': 'partly-cloudy-day',\n",
       " '2011-09-11': 'partly-cloudy-day',\n",
       " '2011-09-30': 'Clear',\n",
       " '2012-02-19': 'partly-cloudy-day',\n",
       " '2012-04-13': 'partly-cloudy-day',\n",
       " '2011-10-21': 'partly-cloudy-day',\n",
       " '2011-08-14': 'partly-cloudy-day',\n",
       " '2011-09-12': 'partly-cloudy-day',\n",
       " '2011-07-18': 'partly-cloudy-day',\n",
       " '2011-08-08': 'rain',\n",
       " '2011-07-24': 'partly-cloudy-day',\n",
       " '2011-12-13': 'rain',\n",
       " '2011-08-28': 'partly-cloudy-day',\n",
       " '2011-08-19': 'partly-cloudy-day',\n",
       " '2012-03-14': 'partly-cloudy-day',\n",
       " '2011-08-12': 'partly-cloudy-day',\n",
       " '2012-03-05': 'Clear',\n",
       " '2011-12-02': 'rain',\n",
       " '2011-09-19': 'partly-cloudy-day',\n",
       " '2011-07-25': 'partly-cloudy-day',\n",
       " '2012-04-02': 'partly-cloudy-day',\n",
       " '2012-02-06': 'Clear',\n",
       " '2011-11-21': 'clear-day',\n",
       " '2011-07-22': 'rain',\n",
       " '2011-08-29': 'partly-cloudy-day',\n",
       " '2012-04-05': 'partly-cloudy-day',\n",
       " '2011-11-28': 'Clear',\n",
       " '2011-12-12': 'partly-cloudy-day',\n",
       " '2011-11-20': 'Clear',\n",
       " '2012-02-27': 'partly-cloudy-day',\n",
       " '2011-07-16': 'Clear',\n",
       " '2011-10-31': 'clear-day',\n",
       " '2012-02-20': 'partly-cloudy-day',\n",
       " '2011-10-17': 'Clear',\n",
       " '2011-12-05': 'partly-cloudy-day',\n",
       " '2012-04-16': 'Clear',\n",
       " '2011-10-03': 'Clear',\n",
       " '2012-03-19': 'clear-day',\n",
       " '2011-08-15': 'partly-cloudy-day',\n",
       " '2011-12-20': 'partly-cloudy-day',\n",
       " '2011-12-21': 'partly-cloudy-day',\n",
       " '2011-12-22': 'partly-cloudy-day',\n",
       " '2011-12-26': 'partly-cloudy-day',\n",
       " '2011-12-27': 'partly-cloudy-day',\n",
       " '2011-12-30': 'partly-cloudy-day',\n",
       " '2011-12-31': 'partly-cloudy-day',\n",
       " '2012-01-01': 'rain',\n",
       " '2012-01-02': 'rain',\n",
       " '2012-01-03': 'rain',\n",
       " '2012-01-04': 'partly-cloudy-day',\n",
       " '2012-01-11': 'partly-cloudy-day',\n",
       " '2012-01-14': 'partly-cloudy-day',\n",
       " '2012-01-15': 'partly-cloudy-day',\n",
       " '2012-01-16': 'rain',\n",
       " '2012-01-31': 'Clear',\n",
       " '2012-02-01': 'Clear',\n",
       " '2012-03-13': 'partly-cloudy-day',\n",
       " '2012-03-20': 'partly-cloudy-day',\n",
       " '2012-03-21': 'partly-cloudy-day',\n",
       " '2012-04-06': 'partly-cloudy-day',\n",
       " '2012-04-09': 'Clear',\n",
       " '2012-04-24': 'Clear',\n",
       " '2012-04-30': 'Clear',\n",
       " '2012-05-01': 'Clear',\n",
       " '2012-05-02': 'Clear',\n",
       " '2012-05-07': 'partly-cloudy-day',\n",
       " '2012-05-08': 'partly-cloudy-day',\n",
       " '2012-05-13': 'partly-cloudy-day'}"
      ]
     },
     "execution_count": 36,
     "metadata": {},
     "output_type": "execute_result"
    }
   ],
   "source": [
    "weather_dict"
   ]
  },
  {
   "cell_type": "code",
   "execution_count": 37,
   "metadata": {},
   "outputs": [],
   "source": [
    "matches_df['weather'] = matches_df['Date1'].map(weather_dict)"
   ]
  },
  {
   "cell_type": "code",
   "execution_count": 38,
   "metadata": {},
   "outputs": [
    {
     "name": "stdout",
     "output_type": "stream",
     "text": [
      "<class 'pandas.core.frame.DataFrame'>\n",
      "RangeIndex: 992 entries, 0 to 991\n",
      "Data columns (total 10 columns):\n",
      "match_id     992 non-null int64\n",
      "Div          992 non-null object\n",
      "season       992 non-null int64\n",
      "Date1        992 non-null object\n",
      "home_team    992 non-null object\n",
      "away_team    992 non-null object\n",
      "FTHG         992 non-null int64\n",
      "FTAG         992 non-null int64\n",
      "FTR          992 non-null object\n",
      "weather      992 non-null object\n",
      "dtypes: int64(4), object(6)\n",
      "memory usage: 77.6+ KB\n"
     ]
    }
   ],
   "source": [
    "matches_df.info()"
   ]
  },
  {
   "cell_type": "code",
   "execution_count": 39,
   "metadata": {},
   "outputs": [
    {
     "data": {
      "text/html": [
       "<div>\n",
       "<style scoped>\n",
       "    .dataframe tbody tr th:only-of-type {\n",
       "        vertical-align: middle;\n",
       "    }\n",
       "\n",
       "    .dataframe tbody tr th {\n",
       "        vertical-align: top;\n",
       "    }\n",
       "\n",
       "    .dataframe thead th {\n",
       "        text-align: right;\n",
       "    }\n",
       "</style>\n",
       "<table border=\"1\" class=\"dataframe\">\n",
       "  <thead>\n",
       "    <tr style=\"text-align: right;\">\n",
       "      <th></th>\n",
       "      <th>match_id</th>\n",
       "      <th>Div</th>\n",
       "      <th>season</th>\n",
       "      <th>Date1</th>\n",
       "      <th>home_team</th>\n",
       "      <th>away_team</th>\n",
       "      <th>FTHG</th>\n",
       "      <th>FTAG</th>\n",
       "      <th>FTR</th>\n",
       "      <th>weather</th>\n",
       "    </tr>\n",
       "  </thead>\n",
       "  <tbody>\n",
       "    <tr>\n",
       "      <td>0</td>\n",
       "      <td>1092</td>\n",
       "      <td>D1</td>\n",
       "      <td>2011</td>\n",
       "      <td>2012-03-31</td>\n",
       "      <td>Nurnberg</td>\n",
       "      <td>Bayern Munich</td>\n",
       "      <td>0</td>\n",
       "      <td>1</td>\n",
       "      <td>A</td>\n",
       "      <td>partly-cloudy-day</td>\n",
       "    </tr>\n",
       "    <tr>\n",
       "      <td>1</td>\n",
       "      <td>1093</td>\n",
       "      <td>D1</td>\n",
       "      <td>2011</td>\n",
       "      <td>2011-12-11</td>\n",
       "      <td>Stuttgart</td>\n",
       "      <td>Bayern Munich</td>\n",
       "      <td>1</td>\n",
       "      <td>2</td>\n",
       "      <td>A</td>\n",
       "      <td>partly-cloudy-day</td>\n",
       "    </tr>\n",
       "    <tr>\n",
       "      <td>2</td>\n",
       "      <td>1094</td>\n",
       "      <td>D1</td>\n",
       "      <td>2011</td>\n",
       "      <td>2011-08-13</td>\n",
       "      <td>Wolfsburg</td>\n",
       "      <td>Bayern Munich</td>\n",
       "      <td>0</td>\n",
       "      <td>1</td>\n",
       "      <td>A</td>\n",
       "      <td>partly-cloudy-day</td>\n",
       "    </tr>\n",
       "    <tr>\n",
       "      <td>3</td>\n",
       "      <td>1095</td>\n",
       "      <td>D1</td>\n",
       "      <td>2011</td>\n",
       "      <td>2011-11-27</td>\n",
       "      <td>Mainz</td>\n",
       "      <td>Bayern Munich</td>\n",
       "      <td>3</td>\n",
       "      <td>2</td>\n",
       "      <td>H</td>\n",
       "      <td>partly-cloudy-day</td>\n",
       "    </tr>\n",
       "    <tr>\n",
       "      <td>4</td>\n",
       "      <td>1096</td>\n",
       "      <td>D1</td>\n",
       "      <td>2011</td>\n",
       "      <td>2012-02-18</td>\n",
       "      <td>Freiburg</td>\n",
       "      <td>Bayern Munich</td>\n",
       "      <td>0</td>\n",
       "      <td>0</td>\n",
       "      <td>D</td>\n",
       "      <td>partly-cloudy-day</td>\n",
       "    </tr>\n",
       "  </tbody>\n",
       "</table>\n",
       "</div>"
      ],
      "text/plain": [
       "   match_id Div  season       Date1  home_team      away_team  FTHG  FTAG FTR  \\\n",
       "0      1092  D1    2011  2012-03-31   Nurnberg  Bayern Munich     0     1   A   \n",
       "1      1093  D1    2011  2011-12-11  Stuttgart  Bayern Munich     1     2   A   \n",
       "2      1094  D1    2011  2011-08-13  Wolfsburg  Bayern Munich     0     1   A   \n",
       "3      1095  D1    2011  2011-11-27      Mainz  Bayern Munich     3     2   H   \n",
       "4      1096  D1    2011  2012-02-18   Freiburg  Bayern Munich     0     0   D   \n",
       "\n",
       "             weather  \n",
       "0  partly-cloudy-day  \n",
       "1  partly-cloudy-day  \n",
       "2  partly-cloudy-day  \n",
       "3  partly-cloudy-day  \n",
       "4  partly-cloudy-day  "
      ]
     },
     "execution_count": 39,
     "metadata": {},
     "output_type": "execute_result"
    }
   ],
   "source": [
    "matches_df.head()"
   ]
  },
  {
   "cell_type": "code",
   "execution_count": 40,
   "metadata": {},
   "outputs": [
    {
     "data": {
      "text/html": [
       "<div>\n",
       "<style scoped>\n",
       "    .dataframe tbody tr th:only-of-type {\n",
       "        vertical-align: middle;\n",
       "    }\n",
       "\n",
       "    .dataframe tbody tr th {\n",
       "        vertical-align: top;\n",
       "    }\n",
       "\n",
       "    .dataframe thead th {\n",
       "        text-align: right;\n",
       "    }\n",
       "</style>\n",
       "<table border=\"1\" class=\"dataframe\">\n",
       "  <thead>\n",
       "    <tr style=\"text-align: right;\">\n",
       "      <th></th>\n",
       "      <th>match_id</th>\n",
       "      <th>Div</th>\n",
       "      <th>season</th>\n",
       "      <th>Date1</th>\n",
       "      <th>home_team</th>\n",
       "      <th>away_team</th>\n",
       "      <th>FTHG</th>\n",
       "      <th>FTAG</th>\n",
       "      <th>FTR</th>\n",
       "      <th>weather</th>\n",
       "    </tr>\n",
       "  </thead>\n",
       "  <tbody>\n",
       "    <tr>\n",
       "      <td>0</td>\n",
       "      <td>1092</td>\n",
       "      <td>D1</td>\n",
       "      <td>2011</td>\n",
       "      <td>2012-03-31</td>\n",
       "      <td>Nurnberg</td>\n",
       "      <td>Bayern Munich</td>\n",
       "      <td>0</td>\n",
       "      <td>1</td>\n",
       "      <td>A</td>\n",
       "      <td>partly-cloudy-day</td>\n",
       "    </tr>\n",
       "    <tr>\n",
       "      <td>1</td>\n",
       "      <td>1093</td>\n",
       "      <td>D1</td>\n",
       "      <td>2011</td>\n",
       "      <td>2011-12-11</td>\n",
       "      <td>Stuttgart</td>\n",
       "      <td>Bayern Munich</td>\n",
       "      <td>1</td>\n",
       "      <td>2</td>\n",
       "      <td>A</td>\n",
       "      <td>partly-cloudy-day</td>\n",
       "    </tr>\n",
       "    <tr>\n",
       "      <td>2</td>\n",
       "      <td>1094</td>\n",
       "      <td>D1</td>\n",
       "      <td>2011</td>\n",
       "      <td>2011-08-13</td>\n",
       "      <td>Wolfsburg</td>\n",
       "      <td>Bayern Munich</td>\n",
       "      <td>0</td>\n",
       "      <td>1</td>\n",
       "      <td>A</td>\n",
       "      <td>partly-cloudy-day</td>\n",
       "    </tr>\n",
       "    <tr>\n",
       "      <td>3</td>\n",
       "      <td>1095</td>\n",
       "      <td>D1</td>\n",
       "      <td>2011</td>\n",
       "      <td>2011-11-27</td>\n",
       "      <td>Mainz</td>\n",
       "      <td>Bayern Munich</td>\n",
       "      <td>3</td>\n",
       "      <td>2</td>\n",
       "      <td>H</td>\n",
       "      <td>partly-cloudy-day</td>\n",
       "    </tr>\n",
       "    <tr>\n",
       "      <td>4</td>\n",
       "      <td>1096</td>\n",
       "      <td>D1</td>\n",
       "      <td>2011</td>\n",
       "      <td>2012-02-18</td>\n",
       "      <td>Freiburg</td>\n",
       "      <td>Bayern Munich</td>\n",
       "      <td>0</td>\n",
       "      <td>0</td>\n",
       "      <td>D</td>\n",
       "      <td>partly-cloudy-day</td>\n",
       "    </tr>\n",
       "  </tbody>\n",
       "</table>\n",
       "</div>"
      ],
      "text/plain": [
       "   match_id Div  season       Date1  home_team      away_team  FTHG  FTAG FTR  \\\n",
       "0      1092  D1    2011  2012-03-31   Nurnberg  Bayern Munich     0     1   A   \n",
       "1      1093  D1    2011  2011-12-11  Stuttgart  Bayern Munich     1     2   A   \n",
       "2      1094  D1    2011  2011-08-13  Wolfsburg  Bayern Munich     0     1   A   \n",
       "3      1095  D1    2011  2011-11-27      Mainz  Bayern Munich     3     2   H   \n",
       "4      1096  D1    2011  2012-02-18   Freiburg  Bayern Munich     0     0   D   \n",
       "\n",
       "             weather  \n",
       "0  partly-cloudy-day  \n",
       "1  partly-cloudy-day  \n",
       "2  partly-cloudy-day  \n",
       "3  partly-cloudy-day  \n",
       "4  partly-cloudy-day  "
      ]
     },
     "execution_count": 40,
     "metadata": {},
     "output_type": "execute_result"
    }
   ],
   "source": [
    "matches_df.head()"
   ]
  },
  {
   "cell_type": "code",
   "execution_count": 41,
   "metadata": {},
   "outputs": [],
   "source": [
    "matches_df['rain_home'] =np.where(np.logical_and(matches_df['FTR']=='H',matches_df['weather']=='rain'),1,0)"
   ]
  },
  {
   "cell_type": "code",
   "execution_count": 42,
   "metadata": {},
   "outputs": [
    {
     "data": {
      "text/html": [
       "<div>\n",
       "<style scoped>\n",
       "    .dataframe tbody tr th:only-of-type {\n",
       "        vertical-align: middle;\n",
       "    }\n",
       "\n",
       "    .dataframe tbody tr th {\n",
       "        vertical-align: top;\n",
       "    }\n",
       "\n",
       "    .dataframe thead th {\n",
       "        text-align: right;\n",
       "    }\n",
       "</style>\n",
       "<table border=\"1\" class=\"dataframe\">\n",
       "  <thead>\n",
       "    <tr style=\"text-align: right;\">\n",
       "      <th></th>\n",
       "      <th>match_id</th>\n",
       "      <th>Div</th>\n",
       "      <th>season</th>\n",
       "      <th>Date1</th>\n",
       "      <th>home_team</th>\n",
       "      <th>away_team</th>\n",
       "      <th>FTHG</th>\n",
       "      <th>FTAG</th>\n",
       "      <th>FTR</th>\n",
       "      <th>weather</th>\n",
       "      <th>rain_home</th>\n",
       "    </tr>\n",
       "  </thead>\n",
       "  <tbody>\n",
       "    <tr>\n",
       "      <td>0</td>\n",
       "      <td>1092</td>\n",
       "      <td>D1</td>\n",
       "      <td>2011</td>\n",
       "      <td>2012-03-31</td>\n",
       "      <td>Nurnberg</td>\n",
       "      <td>Bayern Munich</td>\n",
       "      <td>0</td>\n",
       "      <td>1</td>\n",
       "      <td>A</td>\n",
       "      <td>partly-cloudy-day</td>\n",
       "      <td>0</td>\n",
       "    </tr>\n",
       "    <tr>\n",
       "      <td>1</td>\n",
       "      <td>1093</td>\n",
       "      <td>D1</td>\n",
       "      <td>2011</td>\n",
       "      <td>2011-12-11</td>\n",
       "      <td>Stuttgart</td>\n",
       "      <td>Bayern Munich</td>\n",
       "      <td>1</td>\n",
       "      <td>2</td>\n",
       "      <td>A</td>\n",
       "      <td>partly-cloudy-day</td>\n",
       "      <td>0</td>\n",
       "    </tr>\n",
       "    <tr>\n",
       "      <td>2</td>\n",
       "      <td>1094</td>\n",
       "      <td>D1</td>\n",
       "      <td>2011</td>\n",
       "      <td>2011-08-13</td>\n",
       "      <td>Wolfsburg</td>\n",
       "      <td>Bayern Munich</td>\n",
       "      <td>0</td>\n",
       "      <td>1</td>\n",
       "      <td>A</td>\n",
       "      <td>partly-cloudy-day</td>\n",
       "      <td>0</td>\n",
       "    </tr>\n",
       "    <tr>\n",
       "      <td>3</td>\n",
       "      <td>1095</td>\n",
       "      <td>D1</td>\n",
       "      <td>2011</td>\n",
       "      <td>2011-11-27</td>\n",
       "      <td>Mainz</td>\n",
       "      <td>Bayern Munich</td>\n",
       "      <td>3</td>\n",
       "      <td>2</td>\n",
       "      <td>H</td>\n",
       "      <td>partly-cloudy-day</td>\n",
       "      <td>0</td>\n",
       "    </tr>\n",
       "    <tr>\n",
       "      <td>4</td>\n",
       "      <td>1096</td>\n",
       "      <td>D1</td>\n",
       "      <td>2011</td>\n",
       "      <td>2012-02-18</td>\n",
       "      <td>Freiburg</td>\n",
       "      <td>Bayern Munich</td>\n",
       "      <td>0</td>\n",
       "      <td>0</td>\n",
       "      <td>D</td>\n",
       "      <td>partly-cloudy-day</td>\n",
       "      <td>0</td>\n",
       "    </tr>\n",
       "  </tbody>\n",
       "</table>\n",
       "</div>"
      ],
      "text/plain": [
       "   match_id Div  season       Date1  home_team      away_team  FTHG  FTAG FTR  \\\n",
       "0      1092  D1    2011  2012-03-31   Nurnberg  Bayern Munich     0     1   A   \n",
       "1      1093  D1    2011  2011-12-11  Stuttgart  Bayern Munich     1     2   A   \n",
       "2      1094  D1    2011  2011-08-13  Wolfsburg  Bayern Munich     0     1   A   \n",
       "3      1095  D1    2011  2011-11-27      Mainz  Bayern Munich     3     2   H   \n",
       "4      1096  D1    2011  2012-02-18   Freiburg  Bayern Munich     0     0   D   \n",
       "\n",
       "             weather  rain_home  \n",
       "0  partly-cloudy-day          0  \n",
       "1  partly-cloudy-day          0  \n",
       "2  partly-cloudy-day          0  \n",
       "3  partly-cloudy-day          0  \n",
       "4  partly-cloudy-day          0  "
      ]
     },
     "execution_count": 42,
     "metadata": {},
     "output_type": "execute_result"
    }
   ],
   "source": [
    "matches_df.head()"
   ]
  },
  {
   "cell_type": "code",
   "execution_count": 43,
   "metadata": {},
   "outputs": [],
   "source": [
    "matches_df['rain_away'] =np.where(np.logical_and(matches_df['FTR']=='R',matches_df['weather']=='rain'),1,0)"
   ]
  },
  {
   "cell_type": "code",
   "execution_count": 44,
   "metadata": {},
   "outputs": [
    {
     "data": {
      "text/plain": [
       "partly-cloudy-day    573\n",
       "Clear                251\n",
       "clear-day            103\n",
       "rain                  59\n",
       "cloudy                 6\n",
       "Name: weather, dtype: int64"
      ]
     },
     "execution_count": 44,
     "metadata": {},
     "output_type": "execute_result"
    }
   ],
   "source": [
    "matches_df.weather.value_counts()"
   ]
  },
  {
   "cell_type": "code",
   "execution_count": 45,
   "metadata": {},
   "outputs": [],
   "source": [
    "matches_df['played_in_rain'] = [1 if x == 'rain' else 0 for x in matches_df['weather']]"
   ]
  },
  {
   "cell_type": "code",
   "execution_count": 46,
   "metadata": {},
   "outputs": [],
   "source": [
    "matches_df['home_wins'] = [1 if x == 'H' else 0 for x in matches_df['FTR']]"
   ]
  },
  {
   "cell_type": "code",
   "execution_count": 47,
   "metadata": {},
   "outputs": [],
   "source": [
    "matches_df['away_wins'] = [1 if x == 'A' else 0 for x in matches_df['FTR']]"
   ]
  },
  {
   "cell_type": "code",
   "execution_count": 48,
   "metadata": {},
   "outputs": [],
   "source": [
    "matches_df['draw'] = [1 if x == 'D' else 0 for x in matches_df['FTR']]"
   ]
  },
  {
   "cell_type": "code",
   "execution_count": 49,
   "metadata": {},
   "outputs": [],
   "source": [
    "import matplotlib.pyplot as plt"
   ]
  },
  {
   "cell_type": "code",
   "execution_count": 50,
   "metadata": {},
   "outputs": [],
   "source": [
    "list_of_teams = unique_teams_list"
   ]
  },
  {
   "cell_type": "code",
   "execution_count": 51,
   "metadata": {},
   "outputs": [
    {
     "data": {
      "text/plain": [
       "128"
      ]
     },
     "execution_count": 51,
     "metadata": {},
     "output_type": "execute_result"
    }
   ],
   "source": [
    "len(list_of_teams)"
   ]
  },
  {
   "cell_type": "code",
   "execution_count": 56,
   "metadata": {},
   "outputs": [],
   "source": [
    "mongodb = MongoHandler(\"football3\", 'divisions')"
   ]
  },
  {
   "cell_type": "code",
   "execution_count": 57,
   "metadata": {},
   "outputs": [
    {
     "data": {
      "text/plain": [
       "lib.MongoHandler"
      ]
     },
     "execution_count": 57,
     "metadata": {},
     "output_type": "execute_result"
    }
   ],
   "source": [
    "type(mongodb)"
   ]
  },
  {
   "cell_type": "code",
   "execution_count": 58,
   "metadata": {},
   "outputs": [
    {
     "data": {
      "image/png": "[encoded data removed]",
      "text/plain": [
       "<Figure size 1440x1440 with 128 Axes>"
      ]
     },
     "metadata": {
      "needs_background": "light"
     },
     "output_type": "display_data"
    }
   ],
   "source": [
    "col = 0\n",
    "rows = 0\n",
    "\n",
    "# fig, axs = plt.subplots(32, 4, figsize=(20,20), facecolor='w', edgecolor='k')\n",
    "# fig.subplots_adjust(hspace = .5, wspace=.001)\n",
    "fig = plt.figure(figsize= (20,20))\n",
    "new_list = []\n",
    "for i,team in enumerate(list_of_teams):\n",
    "    team_list = []\n",
    "    home_team_list = []\n",
    "    home_df = matches_df.loc[matches_df['home_team'] == team]\n",
    "    home_df = home_df.append(home_df.sum().rename('Total'))\n",
    "    home_goals = home_df.iloc[-1]['FTHG']\n",
    "    home_rain_wins = home_df.iloc[-1]['rain_home']\n",
    "    home_rain_played = home_df.iloc[-1]['played_in_rain']\n",
    "    home_wins = home_df.iloc[-1]['home_wins']\n",
    "    home_played = len(home_df)-1\n",
    "    home_draws = home_df.iloc[-1]['draw']\n",
    "    \n",
    "    \n",
    "    away_team_list = []\n",
    "    away_df = matches_df.loc[matches_df['away_team'] == team]\n",
    "    away_df = away_df.append(away_df.sum().rename('Total'))\n",
    "    away_goals = away_df.iloc[-1]['FTAG']\n",
    "    away_rain_wins = away_df.iloc[-1]['rain_away']\n",
    "    away_rain_played = away_df.iloc[-1]['played_in_rain']\n",
    "    away_team_list.append(away_df.iloc[-1]['home_wins'])\n",
    "    away_wins = away_df.iloc[-1]['away_wins']\n",
    "    away_draws = away_df.iloc[-1]['draw']\n",
    "    away_played = len(away_df)-1\n",
    "    \n",
    "    total_goals = home_goals + away_goals\n",
    "    total_wins = home_wins + away_wins\n",
    "    wins_in_rain = home_rain_wins + away_rain_wins\n",
    "    played_in_rain = home_rain_played + away_rain_played \n",
    "    if played_in_rain == 0:\n",
    "        win_percentage = 0\n",
    "    else:\n",
    "        win_percentage = float(wins_in_rain/played_in_rain)\n",
    "    \n",
    "    total_played = home_played + away_played\n",
    "    total_draws = home_draws + away_draws\n",
    "    total_losses = total_played - (total_wins + total_draws)\n",
    "    \n",
    "    team_list.append(team)\n",
    "    team_list.append(total_goals)\n",
    "    team_list.append(total_wins)\n",
    "    team_list.append(win_percentage)\n",
    "    \n",
    " \n",
    "    mongodb.create_doc(team,int(total_goals),int(total_wins),win_percentage)\n",
    "\n",
    "    new_list.append(team_list)\n",
    "\n",
    "    ax = fig.add_subplot(32,4,i+1)\n",
    "    barx = ['total_played', 'total_wins', 'total_losses', 'total_draws']\n",
    "    bary = [total_played, total_wins, total_losses, total_draws]\n",
    "    ax.bar(barx, bary)\n",
    "    ax.set_title(team)\n"
   ]
  },
  {
   "cell_type": "code",
   "execution_count": null,
   "metadata": {},
   "outputs": [],
   "source": []
  },
  {
   "cell_type": "code",
   "execution_count": null,
   "metadata": {},
   "outputs": [],
   "source": []
  },
  {
   "cell_type": "code",
   "execution_count": null,
   "metadata": {},
   "outputs": [],
   "source": []
  }
 ],
 "metadata": {
  "kernelspec": {
   "display_name": "Python 3",
   "language": "python",
   "name": "python3"
  },
  "language_info": {
   "codemirror_mode": {
    "name": "ipython",
    "version": 3
   },
   "file_extension": ".py",
   "mimetype": "text/x-python",
   "name": "python",
   "nbconvert_exporter": "python",
   "pygments_lexer": "ipython3",
   "version": "3.7.4"
  }
 },
 "nbformat": 4,
 "nbformat_minor": 4
}
